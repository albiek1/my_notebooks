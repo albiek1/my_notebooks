{
 "cells": [
  {
   "cell_type": "markdown",
   "metadata": {},
   "source": [
    "# Exercise for the 3rd course week\n",
    "\n",
    "## Ex 1 Classes\n",
    "1. Create 3 classes: Student, DataSheet and Course\n",
    "2. A student has a data_sheet and a data_sheet has multiple courses in particular order\n",
    "3. Each course has name, classroom, teacher, ETCS and optional grade if course is taken.\n",
    "4. In Student update `__init__()` so that a Student can be initiated with name, gender, data_sheet and image_url\n",
    "5. In DataSheet create a method to get_grades_as_list()\n",
    "6. In student create a method: get_avg_grade()\n",
    "7. Create a function that can generate n number of students with random: name, gender, courses (from a fixed list of course names), grades, img_url\n",
    "   1. Let the function write the result to a csv file with format stud_name, course_name, teacher, ,gender, ects, classroom, grade, img_url\n",
    "7. Read student data into a list of Students from a csv file (Each student can appear on multiple lines): \n",
    "   1. loop through the list and print each student with name, img_url and avg_grade.\n",
    "   2. sort the list by avg_grade\n",
    "   3. create a bar chart with student_name on x and avg_grade on y-axis\n",
    "8. Make a method on Student class that can show progression of the study in % (add up ECTS from all passed courses divided by total of 150 total points (equivalent to 5 semesters))\n",
    "9. Show a bar chart of distribution of study progression on x-axis and number of students in each category on y-axis. (e.g. make 10 categories from 0-100%)\n",
    "\n",
    "Extra: Make the Datasheet class iterable so that next(data_sheet) will return the next course in the list\n",
    "\n",
    "## Ex 2 Exceptions (extra)\n",
    "1. Create a function that can take a list of students and return the 3 students closest to completing their study.\n",
    "2. If list is shorter than 3 raise your own custom exception (NotEnoughStudentsException)\n",
    "3. Create another function that can create a csv file with 3 students closest to completion\n",
    "   1. If an exception is raised write an appropriate message to the file\n",
    "\n",
    "## Ex 3 Plotting (extra)\n",
    "1. Create a function that can take a list of students and show a pie chart of how students are distributed in ECTS percentage categories (10%, 20%, ...)\n",
    "2. create a function that can take a list of students and show how many students have taken each course (bar chart)\n",
    "   1. create a method on student that can return a list of courses\n",
    "3. make the figure show males and females in different colors for each course (display 2 datasets in same figure)\n"
   ]
  },
  {
   "cell_type": "code",
   "execution_count": 7,
   "metadata": {},
   "outputs": [],
   "source": [
    "import random\n",
    "class Student():\n",
    "    def __init__(self, name, gender, data_sheet, image_url):\n",
    "        self.name = name\n",
    "        self.gender = gender\n",
    "        self.data_sheet = data_sheet\n",
    "        self.image_url = image_url\n",
    "        \n",
    "    def __repr__(self):\n",
    "        return \"Student(%r, %r, %r, %r)\" % (self.name, self.gender, self.data_sheet, self.image_url)\n",
    "    \n",
    "    def get_average_grade(self):\n",
    "        return sum(self.data_sheet.get_grades_as_list()) / len(self.data_sheet.get_grades_as_list())\n",
    "        \n",
    "class DataSheet():\n",
    "    def __init__(self, *courses):\n",
    "        self.courses = set(courses)\n",
    "        \n",
    "    def __repr__(self):\n",
    "        return \"DataSheet(%r)\" % (self.courses)\n",
    "        \n",
    "    def get_grades_as_list(self):\n",
    "        return list(self.courses.grade)\n",
    "            \n",
    "        \n",
    "class Course():\n",
    "    def __init__(self, name, classroom, teacher, ETCS, grade=None):\n",
    "        self.name = name\n",
    "        self.classroom = classroom\n",
    "        self.teacher = teacher\n",
    "        self.ETCS = ETCS\n",
    "        self.grade = grade\n",
    "        \n",
    "    def __repr__(self):\n",
    "        return \"Course(%r, %r, %r, %r, %r)\" % (self.name, self.classroom, self.teacher, self.ETCS, self.grade)\n",
    "        \n",
    "def generate_students(n):\n",
    "    courses = [Course(\"CL1\",\"1.05\",\"Teach1\",10),Course(\"CL2\",\"1.05\",\"Teach2\",10),Course(\"CL3\",\"1.05\",\"Teach3\",10)]\n",
    "    f_names = [\"Anders\",\"Nikolaj\",\"Bent\",\"Ole\",\"Hans\",\"Tim\"]\n",
    "    l_names = [\"Nielsen\", \"Thomsen\",\"Jensen\",\"Miller\",\"Normann\"]\n",
    "    grades = [-3,0,2,4,7,10,12]\n",
    "    \n",
    "    students = []\n",
    "    \n",
    "    for i in range(n):   \n",
    "        student = Student(random.choice(f_names)+ \" \" +random.choice(l_names),\"male\",DataSheet(random.choice(courses),random.choice(courses)),\"www.image.com/stundent/\" + str(i))\n",
    "        for x in student.data_sheet.courses:\n",
    "            x.grade = random.choice(grades)\n",
    "        students.append(student)\n",
    "    \n",
    "    with open(\"result.csv\",\"w\") as f:\n",
    "        f.write(\"stud_name, course_name, teacher, gender, ects, classroom, grade, img_url\\n\")\n",
    "        for j in students:\n",
    "            for k in student.data_sheet.courses:\n",
    "                f.write(str(\"%r,%r,%r,%r,%r,%r,%r,%r \\n\"%(j.name,k.name,k.teacher,j.gender,k.ETCS,k.classroom,k.grade,j.image_url)))\n",
    "\n",
    "generate_students(10)\n",
    "\n",
    "with open(\"result.csv\") as f:\n",
    "    lines = f.readlines()\n",
    "    del lines[0]\n",
    "    for i in lines:\n",
    "        i = i.split(\",\")"
   ]
  }
 ],
 "metadata": {
  "kernelspec": {
   "display_name": "Python 3 (ipykernel)",
   "language": "python",
   "name": "python3"
  },
  "language_info": {
   "codemirror_mode": {
    "name": "ipython",
    "version": 3
   },
   "file_extension": ".py",
   "mimetype": "text/x-python",
   "name": "python",
   "nbconvert_exporter": "python",
   "pygments_lexer": "ipython3",
   "version": "3.10.6"
  },
  "varInspector": {
   "cols": {
    "lenName": 16,
    "lenType": 16,
    "lenVar": 40
   },
   "kernels_config": {
    "python": {
     "delete_cmd_postfix": "",
     "delete_cmd_prefix": "del ",
     "library": "var_list.py",
     "varRefreshCmd": "print(var_dic_list())"
    },
    "r": {
     "delete_cmd_postfix": ") ",
     "delete_cmd_prefix": "rm(",
     "library": "var_list.r",
     "varRefreshCmd": "cat(var_dic_list()) "
    }
   },
   "types_to_exclude": [
    "module",
    "function",
    "builtin_function_or_method",
    "instance",
    "_Feature"
   ],
   "window_display": false
  }
 },
 "nbformat": 4,
 "nbformat_minor": 4
}
