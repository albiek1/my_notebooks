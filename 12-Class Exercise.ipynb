{
 "cells": [
  {
   "cell_type": "markdown",
   "id": "f65503ef",
   "metadata": {},
   "source": [
    "# steps\n",
    "\n",
    "### Part 1\n",
    "1. Get data from: \"https://en.wikisource.org/wiki/Portal:State_of_the_Union_Speeches_by_United_States_Presidents\"\n",
    "2. Using BeatifullSoup get all the speeches from 1900-2022\n",
    "3. Load all speech urls into a dictionary with year as key. Hint (get year with regex: `r\"\\b(19|20)\\d{2}\\b\"`)\n",
    "4. Loop through dictionary and save content of each speech in [year].txt files\n",
    "\n",
    "### Part 2\n",
    "1. Install nltk: `pip install nltk`\n",
    "2. From the data/gdp.csv file create a dataframe with year and GDP\n",
    "3. From the data/US presidents.csv file create a dataframe with year, president and party\n",
    "4. From the developed text files in part 1, create a dictionary with year:speech\n",
    "5. Clean text by change all to lowercase and remove '\\n'\n",
    "6. Get words from texts (from nltk.tokenize import word_tokenize). Clean text by removing stop words (from nltk.corpus import stopwords) and all non-alphabetic characters (including , and .)\n",
    "7. Use from nltk.stem import WordNetLemmatizer to lemmatize all texts\n",
    "\n",
    "### Part 3\n",
    "**[TextBlob](https://textblob.readthedocs.io/en/dev/quickstart.html)** returns polarity and subjectivity of a sentence. Polarity lies between [-1,1], -1 defines a negative sentiment and 1 defines a positive sentiment. Subjectivity quantifies the amount of personal opinion and factual information contained in the text. The higher subjectivity means that the text contains personal opinion rather than factual information\n",
    "1. Install both textblob for sentiment analysis and wordclouds (pip install textblob wordclouds) and download the vader lexicon (nltk.download('vader_lexicon'))\n",
    "2. Find the polarity and subjectivity of each text (Hint: `TextBlob(text).sentiment`)\n",
    "3. Is there a correlation between negativity and recession years?\n",
    "4. Create a word cloud for the cleaned up speeches of both Trump and Obama. What can be learned from the word clouds?"
   ]
  },
  {
   "cell_type": "code",
   "execution_count": 1,
   "id": "61483e4d",
   "metadata": {},
   "outputs": [
    {
     "ename": "SyntaxError",
     "evalue": "incomplete input (3683657104.py, line 22)",
     "output_type": "error",
     "traceback": [
      "\u001b[0;36m  Input \u001b[0;32mIn [1]\u001b[0;36m\u001b[0m\n\u001b[0;31m    #write to file here\u001b[0m\n\u001b[0m                       ^\u001b[0m\n\u001b[0;31mSyntaxError\u001b[0m\u001b[0;31m:\u001b[0m incomplete input\n"
     ]
    }
   ],
   "source": [
    "import bs4\n",
    "import requests\n",
    "import re\n",
    "main_url = requests.get('https://en.wikisource.org/wiki/Portal:State_of_the_Union_Speeches_by_United_States_Presidents')\n",
    "main_url.raise_for_status()\n",
    "getDates = re.compile(r'\\b(19|20)\\d{2}\\b')\n",
    "speech_dict = {}\n",
    "soup = bs4.BeautifulSoup(main_url.text)\n",
    "\n",
    "for link in soup.find_all('li'):\n",
    "    str = link.text\n",
    "    if(getDates.search(str)!=None):\n",
    "        if(link.find('a')!=None):\n",
    "            match_obj = getDates.search(str)\n",
    "            speech_dict[match_obj.group()]=\"https://en.wikisource.org\"+link.find('a').get('href')\n",
    "\n",
    "for link in speech_dict.values():\n",
    "    s_link = requests.get('https://en.wikisource.org/wiki/William_McKinley%27s_Fourth_State_of_the_Union_Address')\n",
    "    speech = bs4.BeautifulSoup(s_link.text)\n",
    "    element = speech.select('div > p')\n",
    "    for el in element:\n",
    "        #write to file here"
   ]
  }
 ],
 "metadata": {
  "kernelspec": {
   "display_name": "Python 3 (ipykernel)",
   "language": "python",
   "name": "python3"
  },
  "language_info": {
   "codemirror_mode": {
    "name": "ipython",
    "version": 3
   },
   "file_extension": ".py",
   "mimetype": "text/x-python",
   "name": "python",
   "nbconvert_exporter": "python",
   "pygments_lexer": "ipython3",
   "version": "3.10.6"
  }
 },
 "nbformat": 4,
 "nbformat_minor": 5
}
